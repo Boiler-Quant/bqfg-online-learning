{
 "cells": [
  {
   "cell_type": "code",
   "execution_count": 1,
   "metadata": {},
   "outputs": [
    {
     "name": "stderr",
     "output_type": "stream",
     "text": [
      "100%|██████████| 187/187 [01:34<00:00,  1.99it/s]\n"
     ]
    },
    {
     "data": {
      "text/html": [
       "<div>\n",
       "<style scoped>\n",
       "    .dataframe tbody tr th:only-of-type {\n",
       "        vertical-align: middle;\n",
       "    }\n",
       "\n",
       "    .dataframe tbody tr th {\n",
       "        vertical-align: top;\n",
       "    }\n",
       "\n",
       "    .dataframe thead th {\n",
       "        text-align: right;\n",
       "    }\n",
       "</style>\n",
       "<table border=\"1\" class=\"dataframe\">\n",
       "  <thead>\n",
       "    <tr style=\"text-align: right;\">\n",
       "      <th></th>\n",
       "      <th>Oper Day</th>\n",
       "      <th>Interval Ending</th>\n",
       "      <th>HB_BUSAVG</th>\n",
       "      <th>HB_HOUSTON</th>\n",
       "      <th>HB_HUBAVG</th>\n",
       "      <th>HB_NORTH</th>\n",
       "      <th>HB_PAN</th>\n",
       "      <th>HB_SOUTH</th>\n",
       "      <th>HB_WEST</th>\n",
       "      <th>LZ_AEN</th>\n",
       "      <th>LZ_CPS</th>\n",
       "      <th>LZ_HOUSTON</th>\n",
       "      <th>LZ_LCRA</th>\n",
       "      <th>LZ_NORTH</th>\n",
       "      <th>LZ_RAYBN</th>\n",
       "      <th>LZ_SOUTH</th>\n",
       "      <th>LZ_WEST</th>\n",
       "    </tr>\n",
       "  </thead>\n",
       "  <tbody>\n",
       "    <tr>\n",
       "      <th>0</th>\n",
       "      <td>05/11/2024</td>\n",
       "      <td>0015</td>\n",
       "      <td>72.30</td>\n",
       "      <td>72.30</td>\n",
       "      <td>72.30</td>\n",
       "      <td>72.30</td>\n",
       "      <td>72.30</td>\n",
       "      <td>72.30</td>\n",
       "      <td>72.30</td>\n",
       "      <td>72.30</td>\n",
       "      <td>72.30</td>\n",
       "      <td>72.30</td>\n",
       "      <td>72.30</td>\n",
       "      <td>72.30</td>\n",
       "      <td>72.30</td>\n",
       "      <td>72.30</td>\n",
       "      <td>72.30</td>\n",
       "    </tr>\n",
       "    <tr>\n",
       "      <th>1</th>\n",
       "      <td>05/11/2024</td>\n",
       "      <td>0030</td>\n",
       "      <td>61.78</td>\n",
       "      <td>61.78</td>\n",
       "      <td>61.78</td>\n",
       "      <td>61.78</td>\n",
       "      <td>61.78</td>\n",
       "      <td>61.78</td>\n",
       "      <td>61.78</td>\n",
       "      <td>61.78</td>\n",
       "      <td>60.41</td>\n",
       "      <td>61.78</td>\n",
       "      <td>61.78</td>\n",
       "      <td>61.78</td>\n",
       "      <td>61.78</td>\n",
       "      <td>61.78</td>\n",
       "      <td>61.78</td>\n",
       "    </tr>\n",
       "    <tr>\n",
       "      <th>2</th>\n",
       "      <td>05/11/2024</td>\n",
       "      <td>0045</td>\n",
       "      <td>25.99</td>\n",
       "      <td>25.99</td>\n",
       "      <td>25.99</td>\n",
       "      <td>25.99</td>\n",
       "      <td>25.99</td>\n",
       "      <td>25.99</td>\n",
       "      <td>25.99</td>\n",
       "      <td>25.99</td>\n",
       "      <td>25.64</td>\n",
       "      <td>25.99</td>\n",
       "      <td>25.99</td>\n",
       "      <td>25.99</td>\n",
       "      <td>25.99</td>\n",
       "      <td>25.99</td>\n",
       "      <td>25.99</td>\n",
       "    </tr>\n",
       "    <tr>\n",
       "      <th>3</th>\n",
       "      <td>05/11/2024</td>\n",
       "      <td>0100</td>\n",
       "      <td>58.84</td>\n",
       "      <td>58.84</td>\n",
       "      <td>58.84</td>\n",
       "      <td>58.84</td>\n",
       "      <td>58.84</td>\n",
       "      <td>58.84</td>\n",
       "      <td>58.84</td>\n",
       "      <td>58.84</td>\n",
       "      <td>57.50</td>\n",
       "      <td>58.84</td>\n",
       "      <td>58.84</td>\n",
       "      <td>58.84</td>\n",
       "      <td>58.84</td>\n",
       "      <td>58.84</td>\n",
       "      <td>58.84</td>\n",
       "    </tr>\n",
       "    <tr>\n",
       "      <th>4</th>\n",
       "      <td>05/11/2024</td>\n",
       "      <td>0115</td>\n",
       "      <td>30.87</td>\n",
       "      <td>30.87</td>\n",
       "      <td>30.87</td>\n",
       "      <td>30.87</td>\n",
       "      <td>30.87</td>\n",
       "      <td>30.87</td>\n",
       "      <td>30.87</td>\n",
       "      <td>30.87</td>\n",
       "      <td>30.37</td>\n",
       "      <td>30.87</td>\n",
       "      <td>30.87</td>\n",
       "      <td>30.87</td>\n",
       "      <td>30.87</td>\n",
       "      <td>30.87</td>\n",
       "      <td>30.87</td>\n",
       "    </tr>\n",
       "  </tbody>\n",
       "</table>\n",
       "</div>"
      ],
      "text/plain": [
       "     Oper Day Interval Ending HB_BUSAVG HB_HOUSTON HB_HUBAVG HB_NORTH HB_PAN  \\\n",
       "0  05/11/2024            0015     72.30      72.30     72.30    72.30  72.30   \n",
       "1  05/11/2024            0030     61.78      61.78     61.78    61.78  61.78   \n",
       "2  05/11/2024            0045     25.99      25.99     25.99    25.99  25.99   \n",
       "3  05/11/2024            0100     58.84      58.84     58.84    58.84  58.84   \n",
       "4  05/11/2024            0115     30.87      30.87     30.87    30.87  30.87   \n",
       "\n",
       "  HB_SOUTH HB_WEST LZ_AEN LZ_CPS LZ_HOUSTON LZ_LCRA LZ_NORTH LZ_RAYBN  \\\n",
       "0    72.30   72.30  72.30  72.30      72.30   72.30    72.30    72.30   \n",
       "1    61.78   61.78  61.78  60.41      61.78   61.78    61.78    61.78   \n",
       "2    25.99   25.99  25.99  25.64      25.99   25.99    25.99    25.99   \n",
       "3    58.84   58.84  58.84  57.50      58.84   58.84    58.84    58.84   \n",
       "4    30.87   30.87  30.87  30.37      30.87   30.87    30.87    30.87   \n",
       "\n",
       "  LZ_SOUTH LZ_WEST  \n",
       "0    72.30   72.30  \n",
       "1    61.78   61.78  \n",
       "2    25.99   25.99  \n",
       "3    58.84   58.84  \n",
       "4    30.87   30.87  "
      ]
     },
     "execution_count": 1,
     "metadata": {},
     "output_type": "execute_result"
    }
   ],
   "source": [
    "from backend import ercot_df\n",
    "\n",
    "ercot_df.head()"
   ]
  },
  {
   "cell_type": "code",
   "execution_count": null,
   "metadata": {},
   "outputs": [],
   "source": [
    "import pandas as pd\n",
    "\n",
    "ercot_df = ercot_df.apply(pd.to_numeric, errors='coerce')\n",
    "ercot_df.rename(columns={'Oper Day':'Oper_Day', 'Interval Ending': 'Interval_Ending'}, inplace=True)"
   ]
  },
  {
   "cell_type": "code",
   "execution_count": 3,
   "metadata": {},
   "outputs": [
    {
     "ename": "KeyError",
     "evalue": "\"['HB_BUSAVG'] not found in axis\"",
     "output_type": "error",
     "traceback": [
      "\u001b[1;31m---------------------------------------------------------------------------\u001b[0m",
      "\u001b[1;31mKeyError\u001b[0m                                  Traceback (most recent call last)",
      "Cell \u001b[1;32mIn[3], line 3\u001b[0m\n\u001b[0;32m      1\u001b[0m \u001b[38;5;28;01mfrom\u001b[39;00m \u001b[38;5;21;01mtovowpal\u001b[39;00m \u001b[38;5;28;01mimport\u001b[39;00m df_to_vw\n\u001b[1;32m----> 3\u001b[0m vw \u001b[38;5;241m=\u001b[39m \u001b[43mdf_to_vw\u001b[49m\u001b[43m(\u001b[49m\u001b[43mercot_df\u001b[49m\u001b[43m,\u001b[49m\u001b[43m \u001b[49m\u001b[43mlabel\u001b[49m\u001b[38;5;241;43m=\u001b[39;49m\u001b[38;5;124;43m'\u001b[39;49m\u001b[38;5;124;43mHB_BUSAVG\u001b[39;49m\u001b[38;5;124;43m'\u001b[39;49m\u001b[43m)\u001b[49m\n\u001b[0;32m      4\u001b[0m \u001b[38;5;28;01mfor\u001b[39;00m i \u001b[38;5;129;01min\u001b[39;00m \u001b[38;5;28mrange\u001b[39m(\u001b[38;5;241m3\u001b[39m):\n\u001b[0;32m      5\u001b[0m     \u001b[38;5;28mprint\u001b[39m(vw[i] \u001b[38;5;241m+\u001b[39m \u001b[38;5;124m'\u001b[39m\u001b[38;5;130;01m\\n\u001b[39;00m\u001b[38;5;124m'\u001b[39m)\n",
      "File \u001b[1;32mc:\\Users\\alexj\\polybox\\Master\\Semester 1\\Boiler Quant Finance Group\\Project\\bqfg-online-learning\\tovowpal.py:24\u001b[0m, in \u001b[0;36mdf_to_vw\u001b[1;34m(df, label, features, tag_col)\u001b[0m\n\u001b[0;32m      4\u001b[0m \u001b[38;5;250m\u001b[39m\u001b[38;5;124;03m\"\"\"Convert a DataFrame to Vowpal Wabbit format.\u001b[39;00m\n\u001b[0;32m      5\u001b[0m \u001b[38;5;124;03m\u001b[39;00m\n\u001b[0;32m      6\u001b[0m \u001b[38;5;124;03mParameters\u001b[39;00m\n\u001b[1;32m   (...)\u001b[0m\n\u001b[0;32m     21\u001b[0m \u001b[38;5;124;03m    The DataFrame in Vowpal Wabbit format.\u001b[39;00m\n\u001b[0;32m     22\u001b[0m \u001b[38;5;124;03m\"\"\"\u001b[39;00m\n\u001b[0;32m     23\u001b[0m \u001b[38;5;28;01mif\u001b[39;00m features \u001b[38;5;129;01mis\u001b[39;00m \u001b[38;5;28;01mNone\u001b[39;00m:\n\u001b[1;32m---> 24\u001b[0m     features \u001b[38;5;241m=\u001b[39m \u001b[43mdf\u001b[49m\u001b[38;5;241;43m.\u001b[39;49m\u001b[43mcolumns\u001b[49m\u001b[38;5;241;43m.\u001b[39;49m\u001b[43mdrop\u001b[49m\u001b[43m(\u001b[49m\u001b[43mlabel\u001b[49m\u001b[43m)\u001b[49m\u001b[38;5;241m.\u001b[39mtolist()\n\u001b[0;32m     26\u001b[0m \u001b[38;5;28mprint\u001b[39m(\u001b[38;5;28mtype\u001b[39m(features))\n\u001b[0;32m     27\u001b[0m \u001b[38;5;28mprint\u001b[39m(df\u001b[38;5;241m.\u001b[39mdtypes)\n",
      "File \u001b[1;32mc:\\Users\\alexj\\polybox\\Master\\Semester 1\\Boiler Quant Finance Group\\Project\\bqfg-online-learning\\venv\\lib\\site-packages\\pandas\\core\\indexes\\base.py:7070\u001b[0m, in \u001b[0;36mIndex.drop\u001b[1;34m(self, labels, errors)\u001b[0m\n\u001b[0;32m   7068\u001b[0m \u001b[38;5;28;01mif\u001b[39;00m mask\u001b[38;5;241m.\u001b[39many():\n\u001b[0;32m   7069\u001b[0m     \u001b[38;5;28;01mif\u001b[39;00m errors \u001b[38;5;241m!=\u001b[39m \u001b[38;5;124m\"\u001b[39m\u001b[38;5;124mignore\u001b[39m\u001b[38;5;124m\"\u001b[39m:\n\u001b[1;32m-> 7070\u001b[0m         \u001b[38;5;28;01mraise\u001b[39;00m \u001b[38;5;167;01mKeyError\u001b[39;00m(\u001b[38;5;124mf\u001b[39m\u001b[38;5;124m\"\u001b[39m\u001b[38;5;132;01m{\u001b[39;00mlabels[mask]\u001b[38;5;241m.\u001b[39mtolist()\u001b[38;5;132;01m}\u001b[39;00m\u001b[38;5;124m not found in axis\u001b[39m\u001b[38;5;124m\"\u001b[39m)\n\u001b[0;32m   7071\u001b[0m     indexer \u001b[38;5;241m=\u001b[39m indexer[\u001b[38;5;241m~\u001b[39mmask]\n\u001b[0;32m   7072\u001b[0m \u001b[38;5;28;01mreturn\u001b[39;00m \u001b[38;5;28mself\u001b[39m\u001b[38;5;241m.\u001b[39mdelete(indexer)\n",
      "\u001b[1;31mKeyError\u001b[0m: \"['HB_BUSAVG'] not found in axis\""
     ]
    }
   ],
   "source": [
    "from tovowpal import df_to_vw\n",
    "\n",
    "vw = df_to_vw(ercot_df, label='HB_BUSAVG')\n",
    "for i in range(3):\n",
    "    print(vw[i] + '\\n')"
   ]
  },
  {
   "cell_type": "code",
   "execution_count": 7,
   "metadata": {},
   "outputs": [],
   "source": [
    "from sklearn.model_selection import train_test_split\n",
    "\n",
    "train, test = train_test_split(vw, test_size=0.2)"
   ]
  },
  {
   "cell_type": "markdown",
   "metadata": {},
   "source": [
    "# Model"
   ]
  },
  {
   "cell_type": "code",
   "execution_count": 10,
   "metadata": {},
   "outputs": [],
   "source": [
    "from vowpalwabbit import Workspace\n",
    "\n",
    "model = Workspace('--loss_function squared')\n",
    "\n",
    "for row in train:\n",
    "    model.learn(row)\n",
    "    \n",
    "predictions = []\n",
    "\n",
    "for row in test:\n",
    "    predictions.append(model.predict(row))\n",
    "    \n",
    "model.finish()"
   ]
  },
  {
   "cell_type": "code",
   "execution_count": 11,
   "metadata": {},
   "outputs": [
    {
     "name": "stdout",
     "output_type": "stream",
     "text": [
      "[27.456188201904297, 19.469083786010742, 17.36369514465332, 30.446422576904297, 28.819578170776367]\n"
     ]
    }
   ],
   "source": [
    "print(predictions[:5])"
   ]
  }
 ],
 "metadata": {
  "kernelspec": {
   "display_name": "venv",
   "language": "python",
   "name": "python3"
  },
  "language_info": {
   "codemirror_mode": {
    "name": "ipython",
    "version": 3
   },
   "file_extension": ".py",
   "mimetype": "text/x-python",
   "name": "python",
   "nbconvert_exporter": "python",
   "pygments_lexer": "ipython3",
   "version": "3.10.11"
  }
 },
 "nbformat": 4,
 "nbformat_minor": 2
}
