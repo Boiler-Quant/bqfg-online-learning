{
 "cells": [
  {
   "cell_type": "code",
   "execution_count": 6,
   "metadata": {},
   "outputs": [
    {
     "name": "stderr",
     "output_type": "stream",
     "text": [
      "100%|██████████| 3/3 [00:00<00:00,  3.39it/s]\n"
     ]
    },
    {
     "data": {
      "text/html": [
       "<div>\n",
       "<style scoped>\n",
       "    .dataframe tbody tr th:only-of-type {\n",
       "        vertical-align: middle;\n",
       "    }\n",
       "\n",
       "    .dataframe tbody tr th {\n",
       "        vertical-align: top;\n",
       "    }\n",
       "\n",
       "    .dataframe thead th {\n",
       "        text-align: right;\n",
       "    }\n",
       "</style>\n",
       "<table border=\"1\" class=\"dataframe\">\n",
       "  <thead>\n",
       "    <tr style=\"text-align: right;\">\n",
       "      <th></th>\n",
       "      <th>Oper Day</th>\n",
       "      <th>Interval Ending</th>\n",
       "      <th>HB_BUSAVG</th>\n",
       "      <th>HB_HOUSTON</th>\n",
       "      <th>HB_HUBAVG</th>\n",
       "      <th>HB_NORTH</th>\n",
       "      <th>HB_PAN</th>\n",
       "      <th>HB_SOUTH</th>\n",
       "      <th>HB_WEST</th>\n",
       "      <th>LZ_AEN</th>\n",
       "      <th>LZ_CPS</th>\n",
       "      <th>LZ_HOUSTON</th>\n",
       "      <th>LZ_LCRA</th>\n",
       "      <th>LZ_NORTH</th>\n",
       "      <th>LZ_RAYBN</th>\n",
       "      <th>LZ_SOUTH</th>\n",
       "      <th>LZ_WEST</th>\n",
       "    </tr>\n",
       "  </thead>\n",
       "  <tbody>\n",
       "    <tr>\n",
       "      <th>0</th>\n",
       "      <td>11/11/2024</td>\n",
       "      <td>0015</td>\n",
       "      <td>32.02</td>\n",
       "      <td>22.83</td>\n",
       "      <td>32.35</td>\n",
       "      <td>34.05</td>\n",
       "      <td>43.46</td>\n",
       "      <td>22.34</td>\n",
       "      <td>50.17</td>\n",
       "      <td>19.97</td>\n",
       "      <td>19.90</td>\n",
       "      <td>22.64</td>\n",
       "      <td>16.11</td>\n",
       "      <td>34.02</td>\n",
       "      <td>34.46</td>\n",
       "      <td>32.01</td>\n",
       "      <td>71.27</td>\n",
       "    </tr>\n",
       "    <tr>\n",
       "      <th>1</th>\n",
       "      <td>11/11/2024</td>\n",
       "      <td>0030</td>\n",
       "      <td>31.74</td>\n",
       "      <td>24.19</td>\n",
       "      <td>32.72</td>\n",
       "      <td>32.64</td>\n",
       "      <td>41.65</td>\n",
       "      <td>23.22</td>\n",
       "      <td>50.85</td>\n",
       "      <td>21.05</td>\n",
       "      <td>21.26</td>\n",
       "      <td>24.02</td>\n",
       "      <td>17.76</td>\n",
       "      <td>32.62</td>\n",
       "      <td>32.95</td>\n",
       "      <td>30.18</td>\n",
       "      <td>85.75</td>\n",
       "    </tr>\n",
       "    <tr>\n",
       "      <th>2</th>\n",
       "      <td>11/11/2024</td>\n",
       "      <td>0045</td>\n",
       "      <td>30.11</td>\n",
       "      <td>23.26</td>\n",
       "      <td>30.52</td>\n",
       "      <td>31.60</td>\n",
       "      <td>39.19</td>\n",
       "      <td>22.04</td>\n",
       "      <td>45.18</td>\n",
       "      <td>20.34</td>\n",
       "      <td>20.09</td>\n",
       "      <td>23.08</td>\n",
       "      <td>17.33</td>\n",
       "      <td>31.57</td>\n",
       "      <td>31.92</td>\n",
       "      <td>28.60</td>\n",
       "      <td>65.23</td>\n",
       "    </tr>\n",
       "    <tr>\n",
       "      <th>3</th>\n",
       "      <td>11/11/2024</td>\n",
       "      <td>0100</td>\n",
       "      <td>29.88</td>\n",
       "      <td>23.10</td>\n",
       "      <td>30.37</td>\n",
       "      <td>31.22</td>\n",
       "      <td>38.79</td>\n",
       "      <td>22.07</td>\n",
       "      <td>45.09</td>\n",
       "      <td>20.32</td>\n",
       "      <td>20.19</td>\n",
       "      <td>22.92</td>\n",
       "      <td>17.40</td>\n",
       "      <td>31.20</td>\n",
       "      <td>31.52</td>\n",
       "      <td>28.63</td>\n",
       "      <td>66.80</td>\n",
       "    </tr>\n",
       "    <tr>\n",
       "      <th>4</th>\n",
       "      <td>11/11/2024</td>\n",
       "      <td>0115</td>\n",
       "      <td>26.20</td>\n",
       "      <td>21.57</td>\n",
       "      <td>27.43</td>\n",
       "      <td>25.86</td>\n",
       "      <td>32.10</td>\n",
       "      <td>21.54</td>\n",
       "      <td>40.76</td>\n",
       "      <td>19.85</td>\n",
       "      <td>20.59</td>\n",
       "      <td>21.49</td>\n",
       "      <td>18.04</td>\n",
       "      <td>25.81</td>\n",
       "      <td>25.99</td>\n",
       "      <td>25.62</td>\n",
       "      <td>76.85</td>\n",
       "    </tr>\n",
       "  </tbody>\n",
       "</table>\n",
       "</div>"
      ],
      "text/plain": [
       "     Oper Day Interval Ending HB_BUSAVG HB_HOUSTON HB_HUBAVG HB_NORTH HB_PAN  \\\n",
       "0  11/11/2024            0015     32.02      22.83     32.35    34.05  43.46   \n",
       "1  11/11/2024            0030     31.74      24.19     32.72    32.64  41.65   \n",
       "2  11/11/2024            0045     30.11      23.26     30.52    31.60  39.19   \n",
       "3  11/11/2024            0100     29.88      23.10     30.37    31.22  38.79   \n",
       "4  11/11/2024            0115     26.20      21.57     27.43    25.86  32.10   \n",
       "\n",
       "  HB_SOUTH HB_WEST LZ_AEN LZ_CPS LZ_HOUSTON LZ_LCRA LZ_NORTH LZ_RAYBN  \\\n",
       "0    22.34   50.17  19.97  19.90      22.64   16.11    34.02    34.46   \n",
       "1    23.22   50.85  21.05  21.26      24.02   17.76    32.62    32.95   \n",
       "2    22.04   45.18  20.34  20.09      23.08   17.33    31.57    31.92   \n",
       "3    22.07   45.09  20.32  20.19      22.92   17.40    31.20    31.52   \n",
       "4    21.54   40.76  19.85  20.59      21.49   18.04    25.81    25.99   \n",
       "\n",
       "  LZ_SOUTH LZ_WEST  \n",
       "0    32.01   71.27  \n",
       "1    30.18   85.75  \n",
       "2    28.60   65.23  \n",
       "3    28.63   66.80  \n",
       "4    25.62   76.85  "
      ]
     },
     "execution_count": 6,
     "metadata": {},
     "output_type": "execute_result"
    }
   ],
   "source": [
    "from backend import ercot_df\n",
    "\n",
    "ercot_df.head()"
   ]
  },
  {
   "cell_type": "code",
   "execution_count": 7,
   "metadata": {},
   "outputs": [],
   "source": [
    "import pandas as pd\n",
    "\n",
    "ercot_df = ercot_df.apply(pd.to_numeric, errors='coerce')\n",
    "ercot_df.rename(columns={'Oper Day':'Oper_Day', 'Interval Ending': 'Interval_Ending'}, inplace=True)"
   ]
  },
  {
   "cell_type": "code",
   "execution_count": 8,
   "metadata": {},
   "outputs": [
    {
     "name": "stdout",
     "output_type": "stream",
     "text": [
      "<class 'list'>\n",
      "Oper_Day           float64\n",
      "Interval_Ending      int64\n",
      "HB_BUSAVG          float64\n",
      "HB_HOUSTON         float64\n",
      "HB_HUBAVG          float64\n",
      "HB_NORTH           float64\n",
      "HB_PAN             float64\n",
      "HB_SOUTH           float64\n",
      "HB_WEST            float64\n",
      "LZ_AEN             float64\n",
      "LZ_CPS             float64\n",
      "LZ_HOUSTON         float64\n",
      "LZ_LCRA            float64\n",
      "LZ_NORTH           float64\n",
      "LZ_RAYBN           float64\n",
      "LZ_SOUTH           float64\n",
      "LZ_WEST            float64\n",
      "dtype: object\n",
      "32.02 |  Interval_Ending:15 HB_HOUSTON:22.83 HB_HUBAVG:32.35 HB_NORTH:34.05 HB_PAN:43.46 HB_SOUTH:22.34 HB_WEST:50.17 LZ_AEN:19.97 LZ_CPS:19.9 LZ_HOUSTON:22.64 LZ_LCRA:16.11 LZ_NORTH:34.02 LZ_RAYBN:34.46 LZ_SOUTH:32.01 LZ_WEST:71.27\n",
      "\n",
      "31.74 |  Interval_Ending:30 HB_HOUSTON:24.19 HB_HUBAVG:32.72 HB_NORTH:32.64 HB_PAN:41.65 HB_SOUTH:23.22 HB_WEST:50.85 LZ_AEN:21.05 LZ_CPS:21.26 LZ_HOUSTON:24.02 LZ_LCRA:17.76 LZ_NORTH:32.62 LZ_RAYBN:32.95 LZ_SOUTH:30.18 LZ_WEST:85.75\n",
      "\n",
      "30.11 |  Interval_Ending:45 HB_HOUSTON:23.26 HB_HUBAVG:30.52 HB_NORTH:31.6 HB_PAN:39.19 HB_SOUTH:22.04 HB_WEST:45.18 LZ_AEN:20.34 LZ_CPS:20.09 LZ_HOUSTON:23.08 LZ_LCRA:17.33 LZ_NORTH:31.57 LZ_RAYBN:31.92 LZ_SOUTH:28.6 LZ_WEST:65.23\n",
      "\n"
     ]
    }
   ],
   "source": [
    "from tovowpal import df_to_vw\n",
    "\n",
    "vw = df_to_vw(ercot_df, label='HB_BUSAVG')\n",
    "for i in range(3):\n",
    "    print(vw[i] + '\\n')"
   ]
  },
  {
   "cell_type": "code",
   "execution_count": 9,
   "metadata": {},
   "outputs": [],
   "source": [
    "from sklearn.model_selection import train_test_split\n",
    "\n",
    "train, test = train_test_split(vw, test_size=0.2)"
   ]
  },
  {
   "cell_type": "markdown",
   "metadata": {},
   "source": [
    "# Model"
   ]
  },
  {
   "cell_type": "code",
   "execution_count": 10,
   "metadata": {},
   "outputs": [],
   "source": [
    "from vowpalwabbit import Workspace\n",
    "\n",
    "model = Workspace('--loss_function squared')\n",
    "\n",
    "for row in train:\n",
    "    model.learn(row)\n",
    "    \n",
    "predictions = []\n",
    "\n",
    "for row in test:\n",
    "    predictions.append(model.predict(row))\n",
    "    \n",
    "model.finish()"
   ]
  },
  {
   "cell_type": "code",
   "execution_count": 11,
   "metadata": {},
   "outputs": [
    {
     "name": "stdout",
     "output_type": "stream",
     "text": [
      "[27.456188201904297, 19.469083786010742, 17.36369514465332, 30.446422576904297, 28.819578170776367]\n"
     ]
    }
   ],
   "source": [
    "print(predictions[:5])"
   ]
  }
 ],
 "metadata": {
  "kernelspec": {
   "display_name": "venv",
   "language": "python",
   "name": "python3"
  },
  "language_info": {
   "codemirror_mode": {
    "name": "ipython",
    "version": 3
   },
   "file_extension": ".py",
   "mimetype": "text/x-python",
   "name": "python",
   "nbconvert_exporter": "python",
   "pygments_lexer": "ipython3",
   "version": "3.10.11"
  }
 },
 "nbformat": 4,
 "nbformat_minor": 2
}
